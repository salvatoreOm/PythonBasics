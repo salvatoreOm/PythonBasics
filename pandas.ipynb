{
 "cells": [
  {
   "cell_type": "code",
   "execution_count": 1,
   "id": "42f1e166",
   "metadata": {},
   "outputs": [],
   "source": [
    "import numpy as np\n",
    "import pandas as pd"
   ]
  },
  {
   "cell_type": "code",
   "execution_count": 2,
   "id": "d2684970",
   "metadata": {},
   "outputs": [],
   "source": [
    " dict1 = {\n",
    "     \"Friends\" : ['Om' , 'Prakhar' , 'Ayush' , 'Krish'],\n",
    "     \"Marks\" : [98,97,96,94],\n",
    "     \"Cities\" : ['New York' , 'Delhi' , 'Mumbai' , 'London']\n",
    " }"
   ]
  },
  {
   "cell_type": "code",
   "execution_count": 3,
   "id": "f3498ae8",
   "metadata": {},
   "outputs": [],
   "source": [
    "df = pd.DataFrame(dict1)"
   ]
  },
  {
   "cell_type": "code",
   "execution_count": 5,
   "id": "d24a2df6",
   "metadata": {},
   "outputs": [
    {
     "data": {
      "text/html": [
       "<div>\n",
       "<style scoped>\n",
       "    .dataframe tbody tr th:only-of-type {\n",
       "        vertical-align: middle;\n",
       "    }\n",
       "\n",
       "    .dataframe tbody tr th {\n",
       "        vertical-align: top;\n",
       "    }\n",
       "\n",
       "    .dataframe thead th {\n",
       "        text-align: right;\n",
       "    }\n",
       "</style>\n",
       "<table border=\"1\" class=\"dataframe\">\n",
       "  <thead>\n",
       "    <tr style=\"text-align: right;\">\n",
       "      <th></th>\n",
       "      <th>Friends</th>\n",
       "      <th>Marks</th>\n",
       "      <th>Cities</th>\n",
       "    </tr>\n",
       "  </thead>\n",
       "  <tbody>\n",
       "    <tr>\n",
       "      <th>0</th>\n",
       "      <td>Om</td>\n",
       "      <td>98</td>\n",
       "      <td>New York</td>\n",
       "    </tr>\n",
       "    <tr>\n",
       "      <th>1</th>\n",
       "      <td>Prakhar</td>\n",
       "      <td>97</td>\n",
       "      <td>Delhi</td>\n",
       "    </tr>\n",
       "    <tr>\n",
       "      <th>2</th>\n",
       "      <td>Ayush</td>\n",
       "      <td>96</td>\n",
       "      <td>Mumbai</td>\n",
       "    </tr>\n",
       "    <tr>\n",
       "      <th>3</th>\n",
       "      <td>Krish</td>\n",
       "      <td>94</td>\n",
       "      <td>London</td>\n",
       "    </tr>\n",
       "  </tbody>\n",
       "</table>\n",
       "</div>"
      ],
      "text/plain": [
       "   Friends  Marks    Cities\n",
       "0       Om     98  New York\n",
       "1  Prakhar     97     Delhi\n",
       "2    Ayush     96    Mumbai\n",
       "3    Krish     94    London"
      ]
     },
     "execution_count": 5,
     "metadata": {},
     "output_type": "execute_result"
    }
   ],
   "source": [
    "df"
   ]
  },
  {
   "cell_type": "code",
   "execution_count": 6,
   "id": "2710724e",
   "metadata": {},
   "outputs": [],
   "source": [
    "df.to_csv('Friends.csv')"
   ]
  },
  {
   "cell_type": "code",
   "execution_count": 8,
   "id": "dbe673ba",
   "metadata": {},
   "outputs": [],
   "source": [
    "df.to_csv('Friends_index_Flase.csv' , index = False)"
   ]
  },
  {
   "cell_type": "code",
   "execution_count": null,
   "id": "ee5deaac",
   "metadata": {},
   "outputs": [],
   "source": [
    " #df.head(2)\n",
    " #df.tail(2)"
   ]
  },
  {
   "cell_type": "code",
   "execution_count": 9,
   "id": "2a02306d",
   "metadata": {},
   "outputs": [
    {
     "data": {
      "text/html": [
       "<div>\n",
       "<style scoped>\n",
       "    .dataframe tbody tr th:only-of-type {\n",
       "        vertical-align: middle;\n",
       "    }\n",
       "\n",
       "    .dataframe tbody tr th {\n",
       "        vertical-align: top;\n",
       "    }\n",
       "\n",
       "    .dataframe thead th {\n",
       "        text-align: right;\n",
       "    }\n",
       "</style>\n",
       "<table border=\"1\" class=\"dataframe\">\n",
       "  <thead>\n",
       "    <tr style=\"text-align: right;\">\n",
       "      <th></th>\n",
       "      <th>Marks</th>\n",
       "    </tr>\n",
       "  </thead>\n",
       "  <tbody>\n",
       "    <tr>\n",
       "      <th>count</th>\n",
       "      <td>4.000000</td>\n",
       "    </tr>\n",
       "    <tr>\n",
       "      <th>mean</th>\n",
       "      <td>96.250000</td>\n",
       "    </tr>\n",
       "    <tr>\n",
       "      <th>std</th>\n",
       "      <td>1.707825</td>\n",
       "    </tr>\n",
       "    <tr>\n",
       "      <th>min</th>\n",
       "      <td>94.000000</td>\n",
       "    </tr>\n",
       "    <tr>\n",
       "      <th>25%</th>\n",
       "      <td>95.500000</td>\n",
       "    </tr>\n",
       "    <tr>\n",
       "      <th>50%</th>\n",
       "      <td>96.500000</td>\n",
       "    </tr>\n",
       "    <tr>\n",
       "      <th>75%</th>\n",
       "      <td>97.250000</td>\n",
       "    </tr>\n",
       "    <tr>\n",
       "      <th>max</th>\n",
       "      <td>98.000000</td>\n",
       "    </tr>\n",
       "  </tbody>\n",
       "</table>\n",
       "</div>"
      ],
      "text/plain": [
       "           Marks\n",
       "count   4.000000\n",
       "mean   96.250000\n",
       "std     1.707825\n",
       "min    94.000000\n",
       "25%    95.500000\n",
       "50%    96.500000\n",
       "75%    97.250000\n",
       "max    98.000000"
      ]
     },
     "execution_count": 9,
     "metadata": {},
     "output_type": "execute_result"
    }
   ],
   "source": [
    "df.describe()"
   ]
  },
  {
   "cell_type": "code",
   "execution_count": 10,
   "id": "227dc616",
   "metadata": {},
   "outputs": [],
   "source": [
    "#om = pd.read_csv('om.csv')\n",
    "#om"
   ]
  },
  {
   "cell_type": "code",
   "execution_count": 11,
   "id": "9e44c4b3",
   "metadata": {},
   "outputs": [
    {
     "data": {
      "text/plain": [
       "pandas.core.series.Series"
      ]
     },
     "execution_count": 11,
     "metadata": {},
     "output_type": "execute_result"
    }
   ],
   "source": [
    "#om['speed'][0] = 50 \n",
    "#it will work but don't use it\n",
    "#om.index = ['1st' , '2nd' , '3rd' , '4th']\n",
    "ser = pd.Series(np.random.rand(34))\n",
    "type(ser)"
   ]
  },
  {
   "cell_type": "code",
   "execution_count": 12,
   "id": "d03f54d0",
   "metadata": {},
   "outputs": [
    {
     "data": {
      "text/plain": [
       "0     0.184274\n",
       "1     0.571388\n",
       "2     0.938142\n",
       "3     0.482707\n",
       "4     0.338116\n",
       "5     0.490312\n",
       "6     0.902312\n",
       "7     0.735078\n",
       "8     0.400853\n",
       "9     0.537606\n",
       "10    0.806204\n",
       "11    0.215245\n",
       "12    0.714202\n",
       "13    0.896422\n",
       "14    0.763504\n",
       "15    0.391589\n",
       "16    0.634040\n",
       "17    0.155976\n",
       "18    0.654287\n",
       "19    0.659442\n",
       "20    0.392764\n",
       "21    0.436568\n",
       "22    0.791293\n",
       "23    0.217353\n",
       "24    0.078239\n",
       "25    0.699069\n",
       "26    0.337106\n",
       "27    0.865518\n",
       "28    0.212847\n",
       "29    0.811502\n",
       "30    0.711570\n",
       "31    0.314231\n",
       "32    0.753876\n",
       "33    0.611712\n",
       "dtype: float64"
      ]
     },
     "execution_count": 12,
     "metadata": {},
     "output_type": "execute_result"
    }
   ],
   "source": [
    "ser"
   ]
  },
  {
   "cell_type": "code",
   "execution_count": 16,
   "id": "ca95d7fa",
   "metadata": {},
   "outputs": [
    {
     "data": {
      "text/html": [
       "<div>\n",
       "<style scoped>\n",
       "    .dataframe tbody tr th:only-of-type {\n",
       "        vertical-align: middle;\n",
       "    }\n",
       "\n",
       "    .dataframe tbody tr th {\n",
       "        vertical-align: top;\n",
       "    }\n",
       "\n",
       "    .dataframe thead th {\n",
       "        text-align: right;\n",
       "    }\n",
       "</style>\n",
       "<table border=\"1\" class=\"dataframe\">\n",
       "  <thead>\n",
       "    <tr style=\"text-align: right;\">\n",
       "      <th></th>\n",
       "      <th>0</th>\n",
       "      <th>1</th>\n",
       "      <th>2</th>\n",
       "      <th>3</th>\n",
       "      <th>4</th>\n",
       "    </tr>\n",
       "  </thead>\n",
       "  <tbody>\n",
       "    <tr>\n",
       "      <th>0</th>\n",
       "      <td>0.698923</td>\n",
       "      <td>0.074558</td>\n",
       "      <td>0.841157</td>\n",
       "      <td>0.393742</td>\n",
       "      <td>0.424540</td>\n",
       "    </tr>\n",
       "    <tr>\n",
       "      <th>1</th>\n",
       "      <td>0.919862</td>\n",
       "      <td>0.536295</td>\n",
       "      <td>0.969886</td>\n",
       "      <td>0.085033</td>\n",
       "      <td>0.928890</td>\n",
       "    </tr>\n",
       "    <tr>\n",
       "      <th>2</th>\n",
       "      <td>0.817099</td>\n",
       "      <td>0.078785</td>\n",
       "      <td>0.994084</td>\n",
       "      <td>0.274691</td>\n",
       "      <td>0.751577</td>\n",
       "    </tr>\n",
       "    <tr>\n",
       "      <th>3</th>\n",
       "      <td>0.924968</td>\n",
       "      <td>0.347199</td>\n",
       "      <td>0.583712</td>\n",
       "      <td>0.542619</td>\n",
       "      <td>0.097663</td>\n",
       "    </tr>\n",
       "    <tr>\n",
       "      <th>4</th>\n",
       "      <td>0.253294</td>\n",
       "      <td>0.415470</td>\n",
       "      <td>0.110380</td>\n",
       "      <td>0.128507</td>\n",
       "      <td>0.792453</td>\n",
       "    </tr>\n",
       "    <tr>\n",
       "      <th>...</th>\n",
       "      <td>...</td>\n",
       "      <td>...</td>\n",
       "      <td>...</td>\n",
       "      <td>...</td>\n",
       "      <td>...</td>\n",
       "    </tr>\n",
       "    <tr>\n",
       "      <th>329</th>\n",
       "      <td>0.610359</td>\n",
       "      <td>0.170453</td>\n",
       "      <td>0.919996</td>\n",
       "      <td>0.365908</td>\n",
       "      <td>0.352848</td>\n",
       "    </tr>\n",
       "    <tr>\n",
       "      <th>330</th>\n",
       "      <td>0.240930</td>\n",
       "      <td>0.356313</td>\n",
       "      <td>0.226225</td>\n",
       "      <td>0.213151</td>\n",
       "      <td>0.102933</td>\n",
       "    </tr>\n",
       "    <tr>\n",
       "      <th>331</th>\n",
       "      <td>0.390648</td>\n",
       "      <td>0.325037</td>\n",
       "      <td>0.006410</td>\n",
       "      <td>0.969635</td>\n",
       "      <td>0.172227</td>\n",
       "    </tr>\n",
       "    <tr>\n",
       "      <th>332</th>\n",
       "      <td>0.530161</td>\n",
       "      <td>0.636787</td>\n",
       "      <td>0.031745</td>\n",
       "      <td>0.062359</td>\n",
       "      <td>0.214878</td>\n",
       "    </tr>\n",
       "    <tr>\n",
       "      <th>333</th>\n",
       "      <td>0.012406</td>\n",
       "      <td>0.855916</td>\n",
       "      <td>0.575735</td>\n",
       "      <td>0.432139</td>\n",
       "      <td>0.750726</td>\n",
       "    </tr>\n",
       "  </tbody>\n",
       "</table>\n",
       "<p>334 rows × 5 columns</p>\n",
       "</div>"
      ],
      "text/plain": [
       "            0         1         2         3         4\n",
       "0    0.698923  0.074558  0.841157  0.393742  0.424540\n",
       "1    0.919862  0.536295  0.969886  0.085033  0.928890\n",
       "2    0.817099  0.078785  0.994084  0.274691  0.751577\n",
       "3    0.924968  0.347199  0.583712  0.542619  0.097663\n",
       "4    0.253294  0.415470  0.110380  0.128507  0.792453\n",
       "..        ...       ...       ...       ...       ...\n",
       "329  0.610359  0.170453  0.919996  0.365908  0.352848\n",
       "330  0.240930  0.356313  0.226225  0.213151  0.102933\n",
       "331  0.390648  0.325037  0.006410  0.969635  0.172227\n",
       "332  0.530161  0.636787  0.031745  0.062359  0.214878\n",
       "333  0.012406  0.855916  0.575735  0.432139  0.750726\n",
       "\n",
       "[334 rows x 5 columns]"
      ]
     },
     "execution_count": 16,
     "metadata": {},
     "output_type": "execute_result"
    }
   ],
   "source": [
    "newdf = pd.DataFrame(np.random.rand(334,5) , index = np.arange(334))\n",
    "# newdf.head()\n",
    "newdf"
   ]
  },
  {
   "cell_type": "code",
   "execution_count": 17,
   "id": "183bce3f",
   "metadata": {},
   "outputs": [
    {
     "data": {
      "text/plain": [
       "pandas.core.frame.DataFrame"
      ]
     },
     "execution_count": 17,
     "metadata": {},
     "output_type": "execute_result"
    }
   ],
   "source": [
    "type(newdf)"
   ]
  },
  {
   "cell_type": "code",
   "execution_count": 20,
   "id": "ca2ae5ea",
   "metadata": {},
   "outputs": [
    {
     "data": {
      "text/html": [
       "<div>\n",
       "<style scoped>\n",
       "    .dataframe tbody tr th:only-of-type {\n",
       "        vertical-align: middle;\n",
       "    }\n",
       "\n",
       "    .dataframe tbody tr th {\n",
       "        vertical-align: top;\n",
       "    }\n",
       "\n",
       "    .dataframe thead th {\n",
       "        text-align: right;\n",
       "    }\n",
       "</style>\n",
       "<table border=\"1\" class=\"dataframe\">\n",
       "  <thead>\n",
       "    <tr style=\"text-align: right;\">\n",
       "      <th></th>\n",
       "      <th>0</th>\n",
       "      <th>1</th>\n",
       "      <th>2</th>\n",
       "      <th>3</th>\n",
       "      <th>4</th>\n",
       "    </tr>\n",
       "  </thead>\n",
       "  <tbody>\n",
       "    <tr>\n",
       "      <th>count</th>\n",
       "      <td>334.000000</td>\n",
       "      <td>334.000000</td>\n",
       "      <td>334.000000</td>\n",
       "      <td>334.000000</td>\n",
       "      <td>334.000000</td>\n",
       "    </tr>\n",
       "    <tr>\n",
       "      <th>mean</th>\n",
       "      <td>0.498079</td>\n",
       "      <td>0.513295</td>\n",
       "      <td>0.498513</td>\n",
       "      <td>0.491198</td>\n",
       "      <td>0.493359</td>\n",
       "    </tr>\n",
       "    <tr>\n",
       "      <th>std</th>\n",
       "      <td>0.287637</td>\n",
       "      <td>0.293847</td>\n",
       "      <td>0.271789</td>\n",
       "      <td>0.291577</td>\n",
       "      <td>0.284603</td>\n",
       "    </tr>\n",
       "    <tr>\n",
       "      <th>min</th>\n",
       "      <td>0.012406</td>\n",
       "      <td>0.006826</td>\n",
       "      <td>0.003191</td>\n",
       "      <td>0.001020</td>\n",
       "      <td>0.000210</td>\n",
       "    </tr>\n",
       "    <tr>\n",
       "      <th>25%</th>\n",
       "      <td>0.252377</td>\n",
       "      <td>0.231711</td>\n",
       "      <td>0.268813</td>\n",
       "      <td>0.241434</td>\n",
       "      <td>0.234504</td>\n",
       "    </tr>\n",
       "    <tr>\n",
       "      <th>50%</th>\n",
       "      <td>0.495000</td>\n",
       "      <td>0.510243</td>\n",
       "      <td>0.501012</td>\n",
       "      <td>0.487100</td>\n",
       "      <td>0.490531</td>\n",
       "    </tr>\n",
       "    <tr>\n",
       "      <th>75%</th>\n",
       "      <td>0.752292</td>\n",
       "      <td>0.779190</td>\n",
       "      <td>0.708268</td>\n",
       "      <td>0.739595</td>\n",
       "      <td>0.746373</td>\n",
       "    </tr>\n",
       "    <tr>\n",
       "      <th>max</th>\n",
       "      <td>0.998280</td>\n",
       "      <td>0.997144</td>\n",
       "      <td>0.998345</td>\n",
       "      <td>0.998723</td>\n",
       "      <td>0.988720</td>\n",
       "    </tr>\n",
       "  </tbody>\n",
       "</table>\n",
       "</div>"
      ],
      "text/plain": [
       "                0           1           2           3           4\n",
       "count  334.000000  334.000000  334.000000  334.000000  334.000000\n",
       "mean     0.498079    0.513295    0.498513    0.491198    0.493359\n",
       "std      0.287637    0.293847    0.271789    0.291577    0.284603\n",
       "min      0.012406    0.006826    0.003191    0.001020    0.000210\n",
       "25%      0.252377    0.231711    0.268813    0.241434    0.234504\n",
       "50%      0.495000    0.510243    0.501012    0.487100    0.490531\n",
       "75%      0.752292    0.779190    0.708268    0.739595    0.746373\n",
       "max      0.998280    0.997144    0.998345    0.998723    0.988720"
      ]
     },
     "execution_count": 20,
     "metadata": {},
     "output_type": "execute_result"
    }
   ],
   "source": [
    "newdf.describe()"
   ]
  },
  {
   "cell_type": "code",
   "execution_count": 21,
   "id": "ac55d7e2",
   "metadata": {},
   "outputs": [
    {
     "data": {
      "text/plain": [
       "0    float64\n",
       "1    float64\n",
       "2    float64\n",
       "3    float64\n",
       "4    float64\n",
       "dtype: object"
      ]
     },
     "execution_count": 21,
     "metadata": {},
     "output_type": "execute_result"
    }
   ],
   "source": [
    "newdf.dtypes"
   ]
  },
  {
   "cell_type": "code",
   "execution_count": null,
   "id": "d079accb",
   "metadata": {},
   "outputs": [],
   "source": [
    "#newdf.index\n",
    "#newdf.column\n",
    "#newdf.to_numpy\n",
    "#for transpose , we can use newdf.T\n",
    "#newdf.sort_index(axis = 0 ; ascending = False)\n",
    "#axis = 0 is row and axis = 1 is column\n",
    "#newdf2 = newdf.copy() is copy and newdf2 = newdf is by refrence\n",
    "#newdf.loc[2,2] = 234\n",
    "#newdf.column = list(\"ABCDE\")\n",
    "#newdf.drop(0 , axis = 1)\n",
    "# and operator might look like &\n",
    "#newdf.iloc[0,4]\n",
    "#newdf.drop(['A' , 'D'], axis = 1 , inplace = True)\n",
    "#newdf.reset_index(drop = True , replace = True)\n"
   ]
  }
 ],
 "metadata": {
  "kernelspec": {
   "display_name": "Python 3 (ipykernel)",
   "language": "python",
   "name": "python3"
  },
  "language_info": {
   "codemirror_mode": {
    "name": "ipython",
    "version": 3
   },
   "file_extension": ".py",
   "mimetype": "text/x-python",
   "name": "python",
   "nbconvert_exporter": "python",
   "pygments_lexer": "ipython3",
   "version": "3.11.5"
  }
 },
 "nbformat": 4,
 "nbformat_minor": 5
}
